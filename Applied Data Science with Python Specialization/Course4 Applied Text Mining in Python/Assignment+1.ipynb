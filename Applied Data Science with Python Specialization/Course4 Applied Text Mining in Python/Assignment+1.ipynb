{
 "cells": [
  {
   "cell_type": "markdown",
   "metadata": {},
   "source": [
    "---\n",
    "\n",
    "_You are currently looking at **version 1.1** of this notebook. To download notebooks and datafiles, as well as get help on Jupyter notebooks in the Coursera platform, visit the [Jupyter Notebook FAQ](https://www.coursera.org/learn/python-text-mining/resources/d9pwm) course resource._\n",
    "\n",
    "---"
   ]
  },
  {
   "cell_type": "markdown",
   "metadata": {},
   "source": [
    "# Assignment 1\n",
    "\n",
    "In this assignment, you'll be working with messy medical data and using regex to extract relevant infromation from the data. \n",
    "\n",
    "Each line of the `dates.txt` file corresponds to a medical note. Each note has a date that needs to be extracted, but each date is encoded in one of many formats.\n",
    "\n",
    "The goal of this assignment is to correctly identify all of the different date variants encoded in this dataset and to properly normalize and sort the dates. \n",
    "\n",
    "Here is a list of some of the variants you might encounter in this dataset:\n",
    "* 04/20/2009; 04/20/09; 4/20/09; 4/3/09\n",
    "* Mar-20-2009; Mar 20, 2009; March 20, 2009;  Mar. 20, 2009; Mar 20 2009;\n",
    "* 20 Mar 2009; 20 March 2009; 20 Mar. 2009; 20 March, 2009\n",
    "* Mar 20th, 2009; Mar 21st, 2009; Mar 22nd, 2009\n",
    "* Feb 2009; Sep 2009; Oct 2010\n",
    "* 6/2008; 12/2009\n",
    "* 2009; 2010\n",
    "\n",
    "Once you have extracted these date patterns from the text, the next step is to sort them in ascending chronological order accoring to the following rules:\n",
    "* Assume all dates in xx/xx/xx format are mm/dd/yy\n",
    "* Assume all dates where year is encoded in only two digits are years from the 1900's (e.g. 1/5/89 is January 5th, 1989)\n",
    "* If the day is missing (e.g. 9/2009), assume it is the first day of the month (e.g. September 1, 2009).\n",
    "* If the month is missing (e.g. 2010), assume it is the first of January of that year (e.g. January 1, 2010).\n",
    "* Watch out for potential typos as this is a raw, real-life derived dataset.\n",
    "\n",
    "With these rules in mind, find the correct date in each note and return a pandas Series in chronological order of the original Series' indices.\n",
    "\n",
    "For example if the original series was this:\n",
    "\n",
    "    0    1999\n",
    "    1    2010\n",
    "    2    1978\n",
    "    3    2015\n",
    "    4    1985\n",
    "\n",
    "Your function should return this:\n",
    "\n",
    "    0    2\n",
    "    1    4\n",
    "    2    0\n",
    "    3    1\n",
    "    4    3\n",
    "\n",
    "Your score will be calculated using [Kendall's tau](https://en.wikipedia.org/wiki/Kendall_rank_correlation_coefficient), a correlation measure for ordinal data.\n",
    "\n",
    "*This function should return a Series of length 500 and dtype int.*"
   ]
  },
  {
   "cell_type": "code",
   "execution_count": 1,
   "metadata": {},
   "outputs": [
    {
     "data": {
      "text/html": [
       "<div>\n",
       "<style scoped>\n",
       "    .dataframe tbody tr th:only-of-type {\n",
       "        vertical-align: middle;\n",
       "    }\n",
       "\n",
       "    .dataframe tbody tr th {\n",
       "        vertical-align: top;\n",
       "    }\n",
       "\n",
       "    .dataframe thead th {\n",
       "        text-align: right;\n",
       "    }\n",
       "</style>\n",
       "<table border=\"1\" class=\"dataframe\">\n",
       "  <thead>\n",
       "    <tr style=\"text-align: right;\">\n",
       "      <th></th>\n",
       "      <th>content</th>\n",
       "    </tr>\n",
       "  </thead>\n",
       "  <tbody>\n",
       "    <tr>\n",
       "      <th>0</th>\n",
       "      <td>03/25/93 Total time of visit (in minutes):\\n</td>\n",
       "    </tr>\n",
       "    <tr>\n",
       "      <th>1</th>\n",
       "      <td>6/18/85 Primary Care Doctor:\\n</td>\n",
       "    </tr>\n",
       "    <tr>\n",
       "      <th>2</th>\n",
       "      <td>sshe plans to move as of 7/8/71 In-Home Servic...</td>\n",
       "    </tr>\n",
       "    <tr>\n",
       "      <th>3</th>\n",
       "      <td>7 on 9/27/75 Audit C Score Current:\\n</td>\n",
       "    </tr>\n",
       "    <tr>\n",
       "      <th>4</th>\n",
       "      <td>2/6/96 sleep studyPain Treatment Pain Level (N...</td>\n",
       "    </tr>\n",
       "  </tbody>\n",
       "</table>\n",
       "</div>"
      ],
      "text/plain": [
       "                                             content\n",
       "0       03/25/93 Total time of visit (in minutes):\\n\n",
       "1                     6/18/85 Primary Care Doctor:\\n\n",
       "2  sshe plans to move as of 7/8/71 In-Home Servic...\n",
       "3              7 on 9/27/75 Audit C Score Current:\\n\n",
       "4  2/6/96 sleep studyPain Treatment Pain Level (N..."
      ]
     },
     "execution_count": 1,
     "metadata": {},
     "output_type": "execute_result"
    }
   ],
   "source": [
    "import pandas as pd\n",
    "import re\n",
    "\n",
    "doc = []\n",
    "with open('dates.txt') as file:\n",
    "    for line in file:\n",
    "        doc.append(line)\n",
    "\n",
    "df = pd.DataFrame(doc, columns=['content'])\n",
    "df.head()"
   ]
  },
  {
   "cell_type": "markdown",
   "metadata": {},
   "source": [
    "df['content'] = df['content'].findall('Sep')replace(['Jun', 'Jul', 'Aug', 'Sep'], ['06', '07', '08', '09'])  #can't work\n",
    "df.loc[150:200]"
   ]
  },
  {
   "cell_type": "code",
   "execution_count": null,
   "metadata": {},
   "outputs": [],
   "source": [
    "def fix_date(x):\n",
    "    year = x.split('-')[0]\n",
    "    year =int(year)\n",
    "    if year > 2020:\n",
    "        year = year - 100\n",
    "        return str(year)+x[4:]\n",
    "    else:\n",
    "        return x"
   ]
  },
  {
   "cell_type": "code",
   "execution_count": null,
   "metadata": {},
   "outputs": [],
   "source": [
    "import re\n",
    "import pandas as pd\n",
    "\n",
    "r1 = '(\\d*\\/\\d*\\/\\d*)'\n",
    "r2 = '(\\d*\\/\\d*)'\n",
    "r3 = '(\\d{4})'\n",
    "r4 = '(\\d*\\-\\d*\\-\\d*)'\n",
    "r5 = '(\\d+\\s\\d{4})'\n",
    "r6 = '(\\d+\\s\\d+\\s\\d{4})'\n",
    "\n",
    "date_form = [r1, r2, r3, r4, r5, r6]\n",
    "\n",
    "for i in range(0, len(df)):\n",
    "    for regex in date_form:\n",
    "        x = re.findall(regex , df.loc[i, 'content'])\n",
    "        try:\n",
    "             df.loc[i,'transformed_date']= pd.Timestamp(x[0])\n",
    "        except:\n",
    "            continue\n",
    "\n",
    "#df.loc[1:50]"
   ]
  },
  {
   "cell_type": "code",
   "execution_count": null,
   "metadata": {},
   "outputs": [],
   "source": [
    "df['transformed_date'] = df['transformed_date'].astype(str)  \n",
    "df['transformed_date'].iloc[99]='1983-11-14'\n",
    "df['transformed_date'].iloc[271]='2008-08-01'"
   ]
  },
  {
   "cell_type": "code",
   "execution_count": null,
   "metadata": {
    "scrolled": true
   },
   "outputs": [],
   "source": [
    "df['transformed_date'] = df['transformed_date'].apply(lambda x : fix_date(x))\n",
    "#df.dtypes\n",
    "#df.info()\n",
    "df.loc[0:30]"
   ]
  },
  {
   "cell_type": "code",
   "execution_count": null,
   "metadata": {},
   "outputs": [],
   "source": [
    "for i in range(0,len(df)):\n",
    "    df['content'][i]=df['content'][i].replace('January','01')\n",
    "    df['content'][i]=df['content'][i].replace('February','02')\n",
    "    df['content'][i]=df['content'][i].replace('March','03')\n",
    "    df['content'][i]=df['content'][i].replace('April','04')\n",
    "    df['content'][i]=df['content'][i].replace('May','05')\n",
    "    df['content'][i]=df['content'][i].replace('June','06')\n",
    "    df['content'][i]=df['content'][i].replace('July','07')\n",
    "    df['content'][i]=df['content'][i].replace('August','08')\n",
    "    df['content'][i]=df['content'][i].replace('September','09')\n",
    "    df['content'][i]=df['content'][i].replace('October','10')\n",
    "    df['content'][i]=df['content'][i].replace('November','11')\n",
    "    df['content'][i]=df['content'][i].replace('December','12')\n",
    "    df['content'][i]=df['content'][i].replace('Jan','01')\n",
    "    df['content'][i]=df['content'][i].replace('Feb','02')\n",
    "    df['content'][i]=df['content'][i].replace('Mar','03')\n",
    "    df['content'][i]=df['content'][i].replace('Apr','04')\n",
    "    df['content'][i]=df['content'][i].replace('May','05')\n",
    "    df['content'][i]=df['content'][i].replace('Jun','06')\n",
    "    df['content'][i]=df['content'][i].replace('Jul','07')\n",
    "    df['content'][i]=df['content'][i].replace('Aug','08')\n",
    "    df['content'][i]=df['content'][i].replace('Sep','09')\n",
    "    df['content'][i]=df['content'][i].replace('Oct','10')\n",
    "    df['content'][i]=df['content'][i].replace('Nov','11')\n",
    "    df['content'][i]=df['content'][i].replace('Dec','12')  "
   ]
  },
  {
   "cell_type": "code",
   "execution_count": null,
   "metadata": {},
   "outputs": [],
   "source": [
    "#01 2001\n",
    "for i in range(0, len(df)):\n",
    "    x = re.findall('\\d+\\s\\d{4}' , df.loc[i, 'content'])\n",
    "    x = str(x)\n",
    "    print(x)\n",
    "    if len(x) >2:\n",
    "        y = x[5:9]+'-'+x[2:4]+'-'+'01'\n",
    "        df.loc[i,'transformed_date'] = y\n",
    "        print(i, y, x[5:9], x[2:4])\n",
    "#df.loc[1:50]"
   ]
  },
  {
   "cell_type": "code",
   "execution_count": null,
   "metadata": {},
   "outputs": [],
   "source": [
    "#24 01 2001\n",
    "for i in range(0, len(df)):\n",
    "    x = re.findall('\\d+\\s\\d+\\s\\d{4}' , df.loc[i, 'content'])\n",
    "    x = str(x)  \n",
    "    print(x)\n",
    "    if len(x) >2:\n",
    "        if int(x[5:7])<= 12:\n",
    "            #print(x, type(x))\n",
    "            y = x[8:12]+'-'+x[5:7]+'-'+x[2:4]\n",
    "            df.loc[i,'transformed_date'] = y\n",
    "            print(i, y, x[8:12], x[5:7], x[2:4])\n",
    "        else:\n",
    "            y = x[8:12]+'-'+x[2:4]+'-'+x[5:7]\n",
    "            df.loc[i,'transformed_date'] = y\n",
    "            print(i, y)\n",
    "#df.loc[1:50]     "
   ]
  },
  {
   "cell_type": "markdown",
   "metadata": {},
   "source": [
    "#1/25/2011\n",
    "for i in range(0, len(df)):\n",
    "    x = re.findall('\\d?\\d\\/\\d?\\d\\/\\d{4}' , df['content'].loc[i])\n",
    "    print(x)\n",
    "    if len(x)>0:\n",
    "        x = str(x).split('/')\n",
    "        if len(x[0])<= 3:\n",
    "            a = '0'+x[0][2:4]\n",
    "        else: a = x[0][2:4]\n",
    "        if len(x[1])<1:\n",
    "            b = '0'+x[1]\n",
    "        else: b= x[1]\n",
    "        y = x[2][0:4]+'-'+a+'-'+b\n",
    "        df.loc[i,'transformed_date'] = y\n",
    "        print(y)\n",
    "  \n",
    "#df.loc[1:50]     "
   ]
  },
  {
   "cell_type": "code",
   "execution_count": null,
   "metadata": {},
   "outputs": [],
   "source": [
    "11/1984\n",
    "for i in range(0, len(df)):\n",
    "    x = re.findall('(\\d?\\d\\/\\d{4})' , df.loc[i, 'content'])\n",
    "    #print(i, x, len(x))\n",
    "\n",
    "    if len(x)>0:\n",
    "        x = str(x).split('/')\n",
    "        #print( x[0], x[1])\n",
    "        if len(x[0])<=3: a = '0'+x[0][-1]\n",
    "        else: a = x[0][2:4]\n",
    "            \n",
    "        y = x[1][:-2]+'-'+a+'-'+'01'\n",
    "        df.loc[i,'transformed_date'] = y\n",
    "        print(y)"
   ]
  },
  {
   "cell_type": "code",
   "execution_count": null,
   "metadata": {},
   "outputs": [],
   "source": [
    "5/24/1990\n",
    "for i in range(0, len(df)):\n",
    "    x = re.findall('(\\d?\\d\\/\\d?\\d\\/\\d{4})' , df.loc[i, 'content'])\n",
    "    #print(i, x, len(x))\n",
    "    if len(x)>=1:\n",
    "        x = str(x).split('/')\n",
    "        if len(x[0])<=3: a = '0'+x[0][-1]\n",
    "        else: a = x[0][2:4]\n",
    "        if len(x[1])<=1: b = '0'+x[1]\n",
    "        else: b = x[1]\n",
    "        y = x[2][0:4]+'-'+a+'-'+b\n",
    "        df.loc[i,'transformed_date'] = y\n",
    "        print(y)"
   ]
  },
  {
   "cell_type": "code",
   "execution_count": null,
   "metadata": {},
   "outputs": [],
   "source": [
    "#06 13, 2011 \n",
    "for i in range(0, len(df)):\n",
    "    x = re.findall('\\d+\\s\\d+\\,\\s\\d{4}' , df.loc[i, 'content'])\n",
    "    x = str(x)  \n",
    "    #print(x)\n",
    "    if len(x) >2:\n",
    "        if int(x[5:7])<= 12:\n",
    "            #print(x, type(x))\n",
    "            y = x[9:13]+'-'+x[5:7]+'-'+x[2:4]\n",
    "            df.loc[i,'transformed_date'] = y\n",
    "            print(i, y, x[8:12], x[5:7], x[2:4])\n",
    "        else:\n",
    "            y = x[9:13]+'-'+x[2:4]+'-'+x[5:7]\n",
    "            df.loc[i,'transformed_date'] = y\n",
    "            print(i, y)\n",
    "#df.loc[1:50]     "
   ]
  },
  {
   "cell_type": "code",
   "execution_count": null,
   "metadata": {},
   "outputs": [],
   "source": [
    "df['transformed_date'].iloc[490]='2007-01-01'"
   ]
  },
  {
   "cell_type": "code",
   "execution_count": null,
   "metadata": {
    "scrolled": true
   },
   "outputs": [],
   "source": [
    "df.loc[450:500]"
   ]
  },
  {
   "cell_type": "code",
   "execution_count": null,
   "metadata": {
    "scrolled": true
   },
   "outputs": [],
   "source": [
    "df['transformed_date'] = pd.to_datetime(df['transformed_date'], format='%Y-%m-%d')\n",
    "df = df.sort_values(by='transformed_date', ascending=True)\n",
    "df = df.reset_index()\n",
    "x = df['index']"
   ]
  },
  {
   "cell_type": "code",
   "execution_count": null,
   "metadata": {
    "scrolled": true
   },
   "outputs": [],
   "source": [
    "df.info()"
   ]
  },
  {
   "cell_type": "code",
   "execution_count": null,
   "metadata": {},
   "outputs": [],
   "source": [
    "if df['content'].isna().any()==False:\n",
    "    print('yes')"
   ]
  },
  {
   "cell_type": "code",
   "execution_count": null,
   "metadata": {},
   "outputs": [],
   "source": [
    "if df['content'][1] == df['content'][1]:\n",
    "    print('yes')"
   ]
  },
  {
   "cell_type": "code",
   "execution_count": null,
   "metadata": {
    "scrolled": true
   },
   "outputs": [],
   "source": [
    "df['content'] = df['content'].replace('Sep','09')\n",
    "\n",
    "df['content'] = df['content'].replace(to_replace =['Jan','Feb','Mar','Apr','May','Jun',\n",
    "                             'Jul','Aug','Sep','Oct','Nov','Dec'],\n",
    "                            value = ['01','02','03','04','05','06',\n",
    "                              '07', '08','09','10','11','12'], inplace=True)\n",
    "#for i in range(0 , len(df)):\n",
    "    #df['content'].loc[i] = df['content'].loc[i].replace('Sep','09')\n",
    "   # df['content'].loc[i] = df['content'].loc[i].replace(['Jan','Feb','Mar','Apr','May','Jun',\n",
    "   #                                                      'Jul','Aug','Sep','Oct','Nov','Dec'],\n",
    "   #                                                     ['01','02','03','04','05','06',\n",
    "   #                                                      '07', '08','09','10','11','12'], $str)\n",
    "#df = df.replace({'Jan':'01','Feb':'02','Mar':'03','Apr':'04','May':'05','Jun':'06',\n",
    "#                 'Jul':'07','Aug':'08','Sep':'09','Oct':'10','Nov':'11','Dec':'12'})\n",
    "print(type(df.loc[126]))\n",
    "df.loc[126]\n",
    "df"
   ]
  },
  {
   "cell_type": "code",
   "execution_count": null,
   "metadata": {},
   "outputs": [],
   "source": [
    "df['transformed_date'].iloc[99]='1983-11-14'\n",
    "df['transformed_date'].iloc[271]='2008-08-01'"
   ]
  },
  {
   "cell_type": "code",
   "execution_count": null,
   "metadata": {},
   "outputs": [],
   "source": [
    "df.loc[df['transformed_date'] == 'NaT'].head()"
   ]
  },
  {
   "cell_type": "code",
   "execution_count": 2,
   "metadata": {},
   "outputs": [],
   "source": [
    "def fix_date(x):\n",
    "    year = x.split('-')[0]\n",
    "    year =int(year)\n",
    "    if year > 2020:\n",
    "        year = year - 100\n",
    "        return str(year)+x[4:]\n",
    "    else:\n",
    "        return x\n",
    "\n",
    "def date_sorter():\n",
    "    \n",
    "    # Your code here\n",
    "    import re\n",
    "    import pandas as pd\n",
    "    global df \n",
    "\n",
    "    r1 = '(\\d*\\/\\d*\\/\\d*)'\n",
    "    r2 = '(\\d*\\/\\d*)'\n",
    "    r3 = '(\\d{4})'\n",
    "    r4 = '(\\d*\\-\\d*\\-\\d*)'\n",
    "\n",
    "    date_form = [r1, r2, r3, r4]\n",
    "\n",
    "    for i in range(0, len(df)):\n",
    "        for regex in date_form:\n",
    "            x = re.findall(regex , df.loc[i, 'content'])\n",
    "            try:\n",
    "                 df.loc[i,'transformed_date']= pd.Timestamp(x[0])\n",
    "            except:\n",
    "                continue\n",
    "    df['transformed_date'] = df['transformed_date'].astype(str)  \n",
    "    df['transformed_date'].iloc[99]='1983-11-14'\n",
    "    df['transformed_date'].iloc[271]='2008-08-01'\n",
    "    df['transformed_date'] = df['transformed_date'].apply(lambda x : fix_date(x))\n",
    "    for i in range(0,len(df)):\n",
    "        df['content'][i]=df['content'][i].replace('January','01')\n",
    "        df['content'][i]=df['content'][i].replace('February','02')\n",
    "        df['content'][i]=df['content'][i].replace('March','03')\n",
    "        df['content'][i]=df['content'][i].replace('April','04')\n",
    "        df['content'][i]=df['content'][i].replace('May','05')\n",
    "        df['content'][i]=df['content'][i].replace('June','06')\n",
    "        df['content'][i]=df['content'][i].replace('July','07')\n",
    "        df['content'][i]=df['content'][i].replace('August','08')\n",
    "        df['content'][i]=df['content'][i].replace('September','09')\n",
    "        df['content'][i]=df['content'][i].replace('October','10')\n",
    "        df['content'][i]=df['content'][i].replace('November','11')\n",
    "        df['content'][i]=df['content'][i].replace('December','12')\n",
    "        df['content'][i]=df['content'][i].replace('Jan','01')\n",
    "        df['content'][i]=df['content'][i].replace('Feb','02')\n",
    "        df['content'][i]=df['content'][i].replace('Mar','03')\n",
    "        df['content'][i]=df['content'][i].replace('Apr','04')\n",
    "        df['content'][i]=df['content'][i].replace('May','05')\n",
    "        df['content'][i]=df['content'][i].replace('Jun','06')\n",
    "        df['content'][i]=df['content'][i].replace('Jul','07')\n",
    "        df['content'][i]=df['content'][i].replace('Aug','08')\n",
    "        df['content'][i]=df['content'][i].replace('Sep','09')\n",
    "        df['content'][i]=df['content'][i].replace('Oct','10')\n",
    "        df['content'][i]=df['content'][i].replace('Nov','11')\n",
    "        df['content'][i]=df['content'][i].replace('Dec','12')\n",
    "    for i in range(0, len(df)):\n",
    "        x = re.findall('\\d+\\s\\d{4}' , df.loc[i, 'content'])\n",
    "        x = str(x)\n",
    "        #print(x)\n",
    "        if len(x) >2:\n",
    "            y = x[5:9]+'-'+x[2:4]+'-'+'01'\n",
    "            df.loc[i,'transformed_date'] = y\n",
    "            #print(i, y, x[5:9], x[2:4])\n",
    "    \n",
    "    for i in range(0, len(df)):\n",
    "        x = re.findall('\\d+\\s\\d+\\s\\d{4}' , df.loc[i, 'content'])\n",
    "        x = str(x)  \n",
    "    #print(x)\n",
    "        if len(x) >2:\n",
    "            if int(x[5:7])<= 12:\n",
    "                #print(x, type(x))\n",
    "                y = x[8:12]+'-'+x[5:7]+'-'+x[2:4]\n",
    "                df.loc[i,'transformed_date'] = y\n",
    "                #print(i, y, x[8:12], x[5:7], x[2:4])\n",
    "            else:\n",
    "                y = x[8:12]+'-'+x[2:4]+'-'+x[5:7]\n",
    "                df.loc[i,'transformed_date'] = y\n",
    "                #print(i, y)\n",
    "    #06 13, 2011 \n",
    "    for i in range(0, len(df)):\n",
    "        x = re.findall('\\d+\\s\\d+\\,\\s\\d{4}' , df.loc[i, 'content'])\n",
    "        x = str(x)  \n",
    "        #print(x)\n",
    "        if len(x) >2:\n",
    "            if int(x[5:7])<= 12:\n",
    "                #print(x, type(x))\n",
    "                y = x[9:13]+'-'+x[5:7]+'-'+x[2:4]\n",
    "                df.loc[i,'transformed_date'] = y\n",
    "                #print(i, y, x[8:12], x[5:7], x[2:4])\n",
    "            else:\n",
    "                y = x[9:13]+'-'+x[2:4]+'-'+x[5:7]\n",
    "                df.loc[i,'transformed_date'] = y\n",
    "                #print(i, y)\n",
    "    #11/1984\n",
    "    for i in range(0, len(df)):\n",
    "        x = re.findall('(\\d?\\d\\/\\d{4})' , df.loc[i, 'content'])\n",
    "        #print(i, x, len(x))\n",
    "\n",
    "        if len(x)>0:\n",
    "            x = str(x).split('/')\n",
    "            #print( x[0], x[1])\n",
    "            if len(x[0])<=3: a = '0'+x[0][-1]\n",
    "            else: a = x[0][2:4]\n",
    "            \n",
    "            y = x[1][:-2]+'-'+a+'-'+'01'\n",
    "            df.loc[i,'transformed_date'] = y\n",
    "            #print(y)\n",
    "    #5/24/1990\n",
    "    for i in range(0, len(df)):\n",
    "        x = re.findall('(\\d?\\d\\/\\d?\\d\\/\\d{4})' , df.loc[i, 'content'])\n",
    "        #print(i, x, len(x))\n",
    "        if len(x)>=1:\n",
    "            x = str(x).split('/')\n",
    "            if len(x[0])<=3: a = '0'+x[0][-1]\n",
    "            else: a = x[0][2:4]\n",
    "            if len(x[1])<=1: b = '0'+x[1]\n",
    "            else: b = x[1]\n",
    "            y = x[2][0:4]+'-'+a+'-'+b\n",
    "            df.loc[i,'transformed_date'] = y\n",
    "            #print(y)\n",
    "    \n",
    "\n",
    "    df['transformed_date'].iloc[490]='2007-01-01'    \n",
    "    df['transformed_date'] = pd.to_datetime(df['transformed_date'], format='%Y-%m-%d')\n",
    "    df = df.sort_values(by='transformed_date', ascending=True)\n",
    "    df = df.reset_index()\n",
    "    x = df['index']\n",
    "    \n",
    "    return x"
   ]
  },
  {
   "cell_type": "code",
   "execution_count": 3,
   "metadata": {},
   "outputs": [
    {
     "data": {
      "text/plain": [
       "0        9\n",
       "1       84\n",
       "2        2\n",
       "3       53\n",
       "4       28\n",
       "      ... \n",
       "495    231\n",
       "496    141\n",
       "497    186\n",
       "498    161\n",
       "499    413\n",
       "Name: index, Length: 500, dtype: int64"
      ]
     },
     "execution_count": 3,
     "metadata": {},
     "output_type": "execute_result"
    }
   ],
   "source": [
    "date_sorter()"
   ]
  },
  {
   "cell_type": "code",
   "execution_count": null,
   "metadata": {},
   "outputs": [],
   "source": []
  }
 ],
 "metadata": {
  "coursera": {
   "course_slug": "python-text-mining",
   "graded_item_id": "LvcWI",
   "launcher_item_id": "krne9",
   "part_id": "Mkp1I"
  },
  "kernelspec": {
   "display_name": "Python 3 (ipykernel)",
   "language": "python",
   "name": "python3"
  },
  "language_info": {
   "codemirror_mode": {
    "name": "ipython",
    "version": 3
   },
   "file_extension": ".py",
   "mimetype": "text/x-python",
   "name": "python",
   "nbconvert_exporter": "python",
   "pygments_lexer": "ipython3",
   "version": "3.9.7"
  }
 },
 "nbformat": 4,
 "nbformat_minor": 2
}
